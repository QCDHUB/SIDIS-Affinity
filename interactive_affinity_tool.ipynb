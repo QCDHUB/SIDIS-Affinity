{
  "cells": [
    {
      "cell_type": "markdown",
      "metadata": {
        "id": "uGlOZQuCKhoX"
      },
      "source": [
        "# INTERACTIVE AFFINITY TOOL  \n",
        "\n",
        "\n",
        "\n",
        "Running the notebook:  \n",
        "\n",
        "1. Select \"Run all\" from the the Runtime drop down menu located in the upper left of notebook  \n",
        "\n",
        "2. Scroll down to the last cell  \n",
        "\n",
        "3. Use the sliders to select the values for R0max, R1max, and R2max you wish to use  \n",
        "\n",
        "4. Select the region of interest from the region drop down widget found just below the R2max slider\n",
        "\n",
        "5. Click on \"Run Interact\" located below the region drop down menu  \n",
        "\n",
        "6. Wait for the plot to be generated  \n",
        "\n",
        "7. Repeat steps 3-6 as desired  \n",
        "\n",
        "\n",
        "\n",
        "\n",
        "\n",
        "## Jefferson Lab Angular Momentum (JAM) Collaboration"
      ]
    },
    {
      "cell_type": "code",
      "source": [
        "!git clone https://github.com/QCDHUB/SIDIS-Affinity"
      ],
      "metadata": {
        "id": "sfd1RdxxbXPh"
      },
      "execution_count": null,
      "outputs": []
    },
    {
      "cell_type": "code",
      "source": [
        "pip install tensorflow==2.12.0"
      ],
      "metadata": {
        "id": "dx40MSWnbZfh"
      },
      "execution_count": null,
      "outputs": []
    },
    {
      "cell_type": "code",
      "source": [
        "import numpy as np\n",
        "import pandas as pd\n",
        "from pandas import read_excel\n",
        "from copy import deepcopy\n",
        "from ipywidgets import *\n",
        "import logging, os\n",
        "logging.disable(logging.WARNING)\n",
        "os.environ[\"TF_CPP_MIN_LOG_LEVEL\"] = \"3\"\n",
        "import tensorflow as tf\n",
        "print(\"tf.__version__\", tf.__version__)\n",
        "\n",
        "%cd '/content/SIDIS-Affinity'\n",
        "from plottools import plotEIC1\n",
        "\n",
        "%matplotlib inline"
      ],
      "metadata": {
        "id": "fgvQ5GzYa9sL"
      },
      "execution_count": null,
      "outputs": []
    },
    {
      "cell_type": "code",
      "execution_count": null,
      "metadata": {
        "id": "ZOLmPEUwrz87"
      },
      "outputs": [],
      "source": [
        "collinear_region_name = 'collinear'\n",
        "current_region_name = 'current'\n",
        "target_region_name = 'target'\n",
        "TMD_region_name = 'TMD'\n",
        "soft_region_name = 'soft'\n",
        "collinear_lable_name = 'collinearaff'\n",
        "target_lable_name = 'targetaff'\n",
        "current_lable_name = 'currentaff'\n",
        "TMD_lable_name = 'tmdaff'\n",
        "soft_lable_name = 'softaff'\n",
        "\n",
        "fname = './expdata/eic.xlsx'\n",
        "data=pd.read_excel(fname,index_col=0, engine='openpyxl')\n",
        "\n",
        "data.pT.max()\n",
        "data.keys()\n",
        "\n",
        "test_features = deepcopy(data)\n",
        "test_features = test_features.drop(columns=['W2', 'hadron', 'target'])"
      ]
    },
    {
      "cell_type": "code",
      "execution_count": null,
      "metadata": {
        "id": "SNRUJpfpvO5V"
      },
      "outputs": [],
      "source": [
        "tmd_model_name = './models/final_%s' % TMD_region_name\n",
        "tmd_model = tf.keras.models.load_model(tmd_model_name)\n",
        "target_model_name = './models/final_%s' % target_region_name\n",
        "target_model = tf.keras.models.load_model(target_model_name)\n",
        "collinear_model_name = './models/final_%s' % collinear_region_name\n",
        "collinear_model = tf.keras.models.load_model(collinear_model_name)\n",
        "current_model_name = './models/final_%s' % current_region_name\n",
        "current_model = tf.keras.models.load_model(current_model_name)\n",
        "soft_model_name = './models/final_%s' % soft_region_name\n",
        "soft_model = tf.keras.models.load_model(soft_model_name)"
      ]
    },
    {
      "cell_type": "code",
      "execution_count": null,
      "metadata": {
        "id": "t2LJjmc-jwwE"
      },
      "outputs": [],
      "source": [
        "# Create a slider widget for interactive Rmax selection\n",
        "R0maxSlider=widgets.FloatSlider(min=.1,max=1.,step=.01,continuous_update=False)\n",
        "R1maxSlider=widgets.FloatSlider(min=.1,max=1.,step=.01,continuous_update=False)\n",
        "R2maxSlider=widgets.FloatSlider(min=.1,max=1.,step=.01,continuous_update=False)\n",
        "regionDrop=widgets.Dropdown(\n",
        "    options=[('tmd', TMD_lable_name), ('target', target_lable_name),\n",
        "             ('collinear', collinear_lable_name), ('current', current_lable_name),\n",
        "             ('central', soft_lable_name)],\n",
        "    value=TMD_lable_name,\n",
        "    description='Region:')\n",
        "yAxisDrop=widgets.Dropdown(\n",
        "    options=[('pT', 'pT'), ('qt', 'qT')],\n",
        "    value='pT',\n",
        "    description='y-axis:')\n",
        "# Define a function to predict tmdaff that corresponds the widgets Rmax values and return plot\n",
        "def plot(R0max=R0maxSlider,R1max=R1maxSlider,R2max=R2maxSlider,region=regionDrop,yAxis=yAxisDrop):\n",
        "\n",
        "    test_features['R0max'] = np.ones(len(test_features))*R0maxSlider.value\n",
        "    test_features['R1max'] = np.ones(len(test_features))*R1maxSlider.value\n",
        "    test_features['R2max'] = np.ones(len(test_features))*R2maxSlider.value\n",
        "\n",
        "    if region == TMD_lable_name:\n",
        "        predictions = tmd_model.predict(test_features).flatten()\n",
        "\n",
        "    elif region == target_lable_name:\n",
        "        predictions = target_model.predict(test_features).flatten()\n",
        "\n",
        "    elif region == collinear_lable_name:\n",
        "        predictions = collinear_model.predict(test_features).flatten()\n",
        "\n",
        "    elif region == soft_lable_name:\n",
        "        predictions = soft_model.predict(test_features).flatten()\n",
        "\n",
        "    else:\n",
        "        predictions = current_model.predict(test_features).flatten()\n",
        "\n",
        "    return plotEIC1(data, predictions, hadron = 'pi+', affinity = region, ploty = yAxis, plotx = 'z', cmap_name = 'Spectral', yscale = 'linear')"
      ]
    },
    {
      "cell_type": "code",
      "execution_count": null,
      "metadata": {
        "id": "cifXXiU7vOG-"
      },
      "outputs": [],
      "source": [
        "#Initiate user interaction\n",
        "execute = interactive(plot, {'manual': True},R0=R0maxSlider,R1max=R1maxSlider,R2max=R2maxSlider,region=regionDrop)\n",
        "execute"
      ]
    },
    {
      "cell_type": "code",
      "execution_count": null,
      "metadata": {
        "id": "eQHdv1C8-aqP"
      },
      "outputs": [],
      "source": []
    }
  ],
  "metadata": {
    "colab": {
      "name": "interactive_plot.ipynb",
      "provenance": []
    },
    "kernelspec": {
      "display_name": "Python 3 (ipykernel)",
      "language": "python",
      "name": "python3"
    },
    "language_info": {
      "codemirror_mode": {
        "name": "ipython",
        "version": 3
      },
      "file_extension": ".py",
      "mimetype": "text/x-python",
      "name": "python",
      "nbconvert_exporter": "python",
      "pygments_lexer": "ipython3",
      "version": "3.8.3"
    }
  },
  "nbformat": 4,
  "nbformat_minor": 0
}